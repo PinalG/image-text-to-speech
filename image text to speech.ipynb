{
 "cells": [
  {
   "cell_type": "code",
   "execution_count": 1,
   "id": "e7da0b5e",
   "metadata": {},
   "outputs": [],
   "source": [
    "# import the following libraries\n",
    "# will convert the image to text string\n",
    "import pytesseract      \n",
    "  \n",
    "# adds image processing capabilities\n",
    "from PIL import Image    \n",
    "  \n",
    " # converts the text to speech  \n",
    "import pyttsx3           \n",
    "  \n",
    "#translates into the mentioned language\n",
    "from googletrans import Translator      "
   ]
  },
  {
   "cell_type": "code",
   "execution_count": 2,
   "id": "816c2749",
   "metadata": {},
   "outputs": [
    {
     "name": "stdout",
     "output_type": "stream",
     "text": [
      "<PIL.PngImagePlugin.PngImageFile image mode=L size=336x150 at 0x214A58C1490>\n"
     ]
    }
   ],
   "source": [
    " # opening an image from the source path\n",
    "img = Image.open('text15.png')     \n",
    "  \n",
    "# describes image format in the output\n",
    "print(img)                          "
   ]
  },
  {
   "cell_type": "code",
   "execution_count": 9,
   "id": "a7909119",
   "metadata": {},
   "outputs": [
    {
     "name": "stdout",
     "output_type": "stream",
     "text": [
      "This is the first line of\n",
      "this text example.\n",
      "\n",
      "This is the second line\n",
      "of the same text.\n",
      "\n",
      "\n"
     ]
    }
   ],
   "source": [
    "# path where the tesseract module is installed\n",
    "pytesseract.pytesseract.tesseract_cmd ='C:/Program Files (x86)/Tesseract-OCR/tesseract.exe'   \n",
    "# converts the image to result and saves it into result variable\n",
    "result = pytesseract.image_to_string(img)   \n",
    "# write text in a text file and save it to source path   \n",
    "with open('abc.txt',mode ='w') as file:     \n",
    "      \n",
    "    file.write(result)\n",
    "    print(result)\n",
    "                   \n",
    "p = Translator()                      \n",
    "# translates the text into german language\n",
    "# k = p.translate(result,dest='en')      \n",
    "# print(k)\n",
    "engine = pyttsx3.init()\n",
    "  \n",
    "# an audio will be played which speaks the test if pyttsx3 recognizes it\n",
    "engine.say(result)                             \n",
    "engine.runAndWait()"
   ]
  },
  {
   "cell_type": "code",
   "execution_count": null,
   "id": "cad0d436",
   "metadata": {},
   "outputs": [],
   "source": []
  }
 ],
 "metadata": {
  "kernelspec": {
   "display_name": "Python 3",
   "language": "python",
   "name": "python3"
  },
  "language_info": {
   "codemirror_mode": {
    "name": "ipython",
    "version": 3
   },
   "file_extension": ".py",
   "mimetype": "text/x-python",
   "name": "python",
   "nbconvert_exporter": "python",
   "pygments_lexer": "ipython3",
   "version": "3.8.8"
  }
 },
 "nbformat": 4,
 "nbformat_minor": 5
}
